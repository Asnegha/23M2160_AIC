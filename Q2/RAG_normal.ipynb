{
 "cells": [
  {
   "cell_type": "code",
   "execution_count": 1,
   "metadata": {},
   "outputs": [
    {
     "name": "stderr",
     "output_type": "stream",
     "text": [
      "c:\\Users\\SNEGHA\\Desktop\\Placemnet\\AI_assignment\\.conda\\Lib\\site-packages\\tqdm\\auto.py:21: TqdmWarning: IProgress not found. Please update jupyter and ipywidgets. See https://ipywidgets.readthedocs.io/en/stable/user_install.html\n",
      "  from .autonotebook import tqdm as notebook_tqdm\n"
     ]
    }
   ],
   "source": [
    "# Importing necessary libraries\n",
    "from langchain_community.llms import Ollama\n",
    "from langchain_community.embeddings import OllamaEmbeddings\n",
    "from langchain.prompts import PromptTemplate\n",
    "from langchain_community.document_loaders import PyPDFLoader\n",
    "from langchain_core.vectorstores import VectorStore\n",
    "from langchain_core.language_models.llms import LLM\n",
    "from langchain.text_splitter import RecursiveCharacterTextSplitter\n",
    "from langchain.docstore.document import Document as LangchainDocument\n",
    "from langchain.vectorstores import Chroma, FAISS\n",
    "from langchain.embeddings import HuggingFaceEmbeddings\n",
    "\n",
    "import os\n",
    "from tqdm.auto import tqdm\n",
    "import pandas as pd\n",
    "from typing import Optional, List, Tuple\n",
    "import json\n",
    "import datasets"
   ]
  },
  {
   "cell_type": "code",
   "execution_count": 3,
   "metadata": {},
   "outputs": [],
   "source": [
    "RAG_PROMPT_TEMPLATE = \"\"\"\n",
    "Using the information contained in the context,\n",
    "give a comprehensive answer to the question.\n",
    "Respond only to the question asked, response should be concise and relevant to the question.\n",
    "If the answer cannot be deduced from the context, do not give an answer.</s>\n",
    "Context:\n",
    "{context}\n",
    "---\n",
    "Now here is the question you need to answer.\n",
    "\n",
    "Question: {question}\n",
    "\"\"\"\n",
    "prompt = PromptTemplate.from_template(RAG_PROMPT_TEMPLATE)"
   ]
  },
  {
   "cell_type": "code",
   "execution_count": 5,
   "metadata": {},
   "outputs": [],
   "source": [
    "\"\"\"Answer a question using RAG with the given knowledge index.\"\"\"\n",
    "def answer_with_rag(\n",
    "    question: str,\n",
    "    llm: LLM,\n",
    "    knowledge_index: VectorStore,\n",
    "    num_retrieved_docs: int = 30,\n",
    "    num_docs_final: int = 7,\n",
    ") -> Tuple[str, List[LangchainDocument]]:\n",
    "    \n",
    "    # Gather documents with retriever\n",
    "    relevant_docs = knowledge_index.similarity_search(query=question, k=num_retrieved_docs)\n",
    "    relevant_docs = [doc.page_content for doc in relevant_docs]  # keep only the text\n",
    "\n",
    "\n",
    "    relevant_docs = relevant_docs[:num_docs_final]\n",
    "\n",
    "    # Build the final prompt\n",
    "    context = \"\"\n",
    "    context += \"\".join([f\"Document {str(i)}:::\\n\" + doc for i, doc in enumerate(relevant_docs)])\n",
    "\n",
    "    # Redact an answer\n",
    "    answer = llm.invoke({\"question\":question, \"context\":context})\n",
    "\n",
    "    return answer, relevant_docs"
   ]
  },
  {
   "cell_type": "code",
   "execution_count": 6,
   "metadata": {},
   "outputs": [],
   "source": [
    "\"\"\"Runs RAG tests on the given dataset and saves the results to the given output file.\"\"\"\n",
    "def run_rag_tests(\n",
    "    eval_dataset: datasets.Dataset,\n",
    "    llm: LLM,\n",
    "    knowledge_index: VectorStore,\n",
    "    output_file: str,\n",
    "    verbose: Optional[bool] = True,\n",
    "    test_settings: Optional[str] = None,  # To document the test settings used\n",
    "):\n",
    "    \n",
    "    try:  # load previous generations if they exist\n",
    "        with open(output_file, \"r\") as f:\n",
    "            outputs = json.load(f)\n",
    "    except:\n",
    "        outputs = []\n",
    "\n",
    "    for example in tqdm(eval_dataset):\n",
    "        question = example[\"question\"]\n",
    "        if question in [output[\"question\"] for output in outputs]:\n",
    "            continue\n",
    "\n",
    "        answer, relevant_docs = answer_with_rag(question, llm, knowledge_index)\n",
    "        if verbose:\n",
    "            print(\"=======================================================\")\n",
    "            print(f\"Question: {question}\")\n",
    "            print(f\"Answer: {answer}\")\n",
    "            print(f'True answer: {example[\"answer\"]}')\n",
    "        result = {\n",
    "            \"question\": question,\n",
    "            \"true_answer\": example[\"answer\"],\n",
    "            # \"source_doc\": example[\"source_doc\"],\n",
    "            \"generated_answer\": answer,\n",
    "            \"retrieved_docs\": [doc for doc in relevant_docs],\n",
    "        }\n",
    "        if test_settings:\n",
    "            result[\"test_settings\"] = test_settings\n",
    "        outputs.append(result)\n",
    "\n",
    "        with open(output_file, \"w\") as f:\n",
    "            json.dump(outputs, f)"
   ]
  },
  {
   "cell_type": "code",
   "execution_count": 7,
   "metadata": {},
   "outputs": [],
   "source": [
    "EVALUATION_PROMPT = \"\"\"### Task Description:\n",
    "An instruction (might include an Input inside it), a response to evaluate, a reference answer that gets a score of 5, and a score rubric representing a evaluation criteria are given.\n",
    "1. Write a detailed feedback that assess the appropriateness and relevance  of the response strictly based on the given score rubric, not evaluating in general.\n",
    "2. Also comment on the hallucination of the response to evaluate based on reference answer.\n",
    "3. After writing a feedback, write a score that is an integer between 1 and 5. You should refer to the score rubric.\n",
    "4. The output format should look as follows: \\\"Feedback: {{write a feedback for criteria}} [RESULT] {{an integer number between 1 and 5}} [RESULT] {{Comment regarding hallucination of the response}}\\\"\n",
    "5. Please do not generate any other opening, closing, and explanations. Be sure to include [RESULT] in your output.\n",
    "\n",
    "###The instruction to evaluate:\n",
    "{instruction}\n",
    "\n",
    "###Response to evaluate:\n",
    "{response}\n",
    "\n",
    "###Reference Answer (Score 5):\n",
    "{reference_answer}\n",
    "\n",
    "###Score Rubrics:\n",
    "[Is the response correct, appropriate and relevant based on the reference answer?]\n",
    "Score 1: The response is completely incorrect, inaccurate, and/or not factual.\n",
    "Score 2: The response is mostly incorrect, inaccurate, and/or not factual.\n",
    "Score 3: The response is somewhat correct, accurate, and/or factual.\n",
    "Score 4: The response is mostly correct, accurate, and factual.\n",
    "Score 5: The response is completely correct, accurate, and factual.\n",
    "\n",
    "###Feedback:\"\"\"\n",
    "\n",
    "from langchain.prompts.chat import (\n",
    "    ChatPromptTemplate,\n",
    "    HumanMessagePromptTemplate,\n",
    ")\n",
    "from langchain.schema import SystemMessage\n",
    "\n",
    "\n",
    "evaluation_prompt_template = ChatPromptTemplate.from_messages(\n",
    "    [\n",
    "        SystemMessage(content=\"You are a fair evaluator language model.\"),\n",
    "        HumanMessagePromptTemplate.from_template(EVALUATION_PROMPT),\n",
    "    ]\n",
    ")"
   ]
  },
  {
   "cell_type": "code",
   "execution_count": 8,
   "metadata": {},
   "outputs": [],
   "source": [
    "\"\"\"Evaluates generated answers. Modifies the given answer file in place for better checkpointing.\"\"\"\n",
    "def evaluate_answers(\n",
    "    answer_path: str,\n",
    "    eval_chat_model: LLM,\n",
    "    evaluator_name: str,\n",
    "    evaluation_prompt_template: ChatPromptTemplate,\n",
    ") -> None:\n",
    "    \n",
    "    answers = []\n",
    "    if os.path.isfile(answer_path):  # load previous generations if they exist\n",
    "        answers = json.load(open(answer_path, \"r\"))\n",
    "\n",
    "    for experiment in tqdm(answers):\n",
    "        if f\"eval_score_{evaluator_name}\" in experiment:\n",
    "            continue\n",
    "        eval_result = eval_chat_model.invoke({\"instruction\":experiment[\"question\"],\n",
    "            \"response\":experiment[\"generated_answer\"],\n",
    "            \"reference_answer\":experiment[\"true_answer\"]})\n",
    "        feedback, score, hallucination_comment = [item.strip() for item in eval_result.split(\"[RESULT]\")]\n",
    "        experiment[f\"eval_score_{evaluator_name}\"] = score\n",
    "        experiment[f\"eval_feedback_{evaluator_name}\"] = feedback\n",
    "        experiment[f\"eval_hallucination_feedback_{evaluator_name}\"] = hallucination_comment\n",
    "\n",
    "        with open(answer_path, \"w\") as f:\n",
    "            json.dump(answers, f)"
   ]
  },
  {
   "cell_type": "code",
   "execution_count": 10,
   "metadata": {},
   "outputs": [
    {
     "name": "stdout",
     "output_type": "stream",
     "text": [
      "[Document(page_content=' \\nHIGH LIGHTS FOR BUDGET ESTIMATES 202 4-25 \\nTamil Development  \\n\\uf076 The twin epics of Tamil literature, Silappathikaram and \\nManimegalai, will be translated into 25 Indian and \\nforeign languages at a cost of Rs. 2 crore.  \\n\\uf076 In order to translate literary works and  spread the \\neuphonious  notes  of Tamil language across the world, \\nan allocation of Rs.2 crore will be made in the coming \\nyear. \\n\\uf076 In order to ensure that Tamil flourishes in the rapidly \\nadvancing technological landscape , an allocation of \\nRs.5 crore will be made to enable startups  \\nto develop  Natural Language Processing and Large \\nLanguage Models  based on machine learning and \\nartificia l intelligence.  \\n\\uf076 In order to enable future generations to appreciate \\nthe richness of Tamil language and the glorious history \\nof Tamil people, a project to digitize rare books and \\ndocuments will be undertaken at a cost of Rs.2 crore.  \\n \\n ', metadata={'source': 'tn.pdf', 'page': 0}), Document(page_content=\"2 \\n \\nDocumentation of Linguistic Resources of the Tribes  \\n\\uf076 With a view to documenting and preserving the \\nSaurashtra and Baduga languages spoken in  \\nTamil Nadu, along with the linguistic resources and \\nphonetic forms of various tribes such as Todar, Kothar, \\nSolagar , Kani and Narikuravar from an ethnographical \\nperspective, the Government of Tamil Nadu will \\nallocate Rs. 2 crore in the coming year . \\nRural Development  \\n\\uf076 To create  a 'Hut-Free Tamil Nadu'  by 2030 , eight lakh \\nconcrete houses will be constructed in rural areas. In \\nthe first phase, one lakh new houses will be built at a \\nunit cost of Rs.3.50 lakh per house  in the coming \\nyear. For this, a  new scheme , 'Kalaignarin Kanavu \\nIllam', will be implemented in the coming year at a \\ncost of Rs.3,500 crore , providing an opportunity for \\nthe poor to build their dream homes . \\n\\uf076 Under the ‘Mudhalvarin Grama Salaigal Membattu \\nThittam’ , road development works covering 2,000 km \\nwill be taken up at a cost of Rs .1,000 crore in the  \\ncoming  year.  \", metadata={'source': 'tn.pdf', 'page': 1}), Document(page_content='3 \\n \\n\\uf076 In the coming year, 2,000 new overhead tanks will be \\nconstructed in rural local bodies , at a cost of Rs.365 \\ncrore, replacing the old structures.  \\n\\uf076 In the  rapidly growing  extend ed areas adjacent to \\nMunicipal Corporations , various  development works \\nincluding upgradation of roads will be carried out in \\nthese areas , at an estimated cost of Rs .300 crore. \\n\\uf076 A major project, aimed at restoring  \\n5,000 water bodies, will be implemented through \\ncommunity participation under the guidance of leading \\nscientific institutions , at an estimated  \\ncost of Rs.500 crore.  \\nPoverty Alleviation   \\n\\uf076 In the next two years, this Government will launch the \\nfinal assault on poverty , rescuing around  five lakh of \\nthe poorest families from poverty by providing all the \\nnecessary Government assistance in an integrated \\nmanner  through  a grand initiative  namely, ‘Chief \\nMinister’s Thayumanavar scheme’ . \\n \\n ', metadata={'source': 'tn.pdf', 'page': 2}), Document(page_content='4 \\n \\nMunicipal Administration and Water Supply  \\n\\uf076 In the coming year , 4,457 km length  of urban roads \\nwill be upgraded at a cost of Rs. 2,500 crore through \\nconvergence of various schemes .  \\n\\uf076 Modern public infrastructure amenities including an \\nurban  public square with natural landscapes, \\nexhibition halls  and open-air theatres in Island Ground \\nwill be established at a cost of Rs .104 crore. In \\naddition, beaches at Besant Nagar , Ennore, and \\nKovalam will be embellished  with modern facilities at a \\ncost of Rs .100 crore.   \\n\\uf076 A state -of-the-art Hi -tech Film City will be established \\nin Poonamallee near Chennai, spanning approximately \\n150 acres, at an estimated cost of Rs.500 crore.  \\n\\uf076 The Adyar River which flows from Guduvanchery in \\nChengalpet district through Tambaram, Tiruneer malai, \\nManapakkam, Alandur and Saidapet before reaching \\nthe Bay of Bengal will undergo restoration and \\nbeautification through the Chennai Rivers Restoration \\nTrust. This initiative, with an estimated cost of around \\nRs.1,500 crore, will be implemented through   \\npublic -private partnership .  ', metadata={'source': 'tn.pdf', 'page': 3}), Document(page_content='5 \\n \\n\\uf076 A new ‘Urban Green ing Project ’ will be implemented \\nwith active involvement of Green Tamil Nadu Mission, \\nNon-Governmental Organizations  and through \\ncommunity participation . \\n\\uf076 Projects for  provision of uninterrupted 24 x7 drinking \\nwater supply will be initiated in  Madurai and Salem \\nCorporations in the  coming  year. \\nWater  Supply   \\n\\uf076 The second phase of the Hogenakkal combined water \\nsupply scheme , which is successfully operating since \\n2007, will be undertaken at a cost of Rs.7, 890 crore.  \\n\\uf076 A combined water supply scheme using Kollidam River \\nas source will be implemented  for providing water to \\napproximately 65,000 people in Perambalur  \\nMunicipality, and SIPCOT Industrial Complex located \\nat Erayur and Padalur in Perambalur District ,  \\nat an estimated cost of Rs.366 crore . \\n\\uf076 In order to provide clean drinking water to \\napproximately two lakh residents living in 216 rural \\nhabitations covering four Panchayat Unions in \\nNamakkal district, namely Senthamangalam, \\nErumapatti, Kapil armalai, and Paramathi, a combined ', metadata={'source': 'tn.pdf', 'page': 4}), Document(page_content='6 \\n \\nwater supply scheme will be implemented with \\nCauvery river as the source , at a cost of Rs.358 crore.  \\n\\uf076 A combined water supply scheme, wit h  \\nVaigai as the source, will be undertaken  at a cost of \\nRs.56 5 crore to benefit approximately six lakh \\nresidents of 425 rural habitations in Dindigul \\nCorporation, Chinnalapatti  and Sevukambatti Town \\nPanchayats, and Panchayat Unions of Attur, Nilakottai , \\nand Vathalakundu.   \\nWomen Welfare  \\n\\uf076 Rs.1,000 per month is being directly deposited in the \\nbank accounts of 1.15 crore  women heads of \\nhouseholds  under the Kalaignar Magalir Urimai \\nThittam. For this scheme , an amount of Rs .13,720 \\ncrore has been allocated in the coming year.  \\n\\uf076 The ‘Vidiyal Payana  Thittam ’ to provide free  bus travel \\nto women  will be further extended to hilly areas of \\nNilgiris, Kodaikanal and Valparai  from the coming \\nyear.  \\n\\uf076 The Moovalur Ramamirtham Ammaiyar Puthumai  Penn \\nThittam  will be extended to girl students studying in \\nGovernment -aided schools in Tamil medium. A sum of ', metadata={'source': 'tn.pdf', 'page': 5}), Document(page_content='7 \\n \\nRs.370 crore will be allocated for the implementation \\nof this scheme  in the coming year . \\nChief Minister’s Breakfast Scheme   \\n\\uf076 The scope of  ‘The Chief Minister’s Breakfast Scheme’ \\nwill be broadened to encompass Government -aided \\nschools in rural areas of the State starting from the \\nupcoming academic year, thus benefiting around 2.5 \\nlakh students enrolled from Class I to Class V.  \\n\\uf076 In order to uplift the nutritional status  of severely \\nmalnourished  children  in 0 to 6 months  age group , a \\nnutritional kit  will be provided to their mothers .  \\n\\uf076 A total of 500 new anganwadis will be constructed  at a \\ncost of Rs.70 crore  to ensure basic infrastructure \\nfacilities  for anganwadis  currently functioning in \\nrented buildings .  \\n\\uf076 New ‘Thozhi ’ hostels will be constructed this year in  \\nmajor  cities such as  Chennai, Coimbatore and \\nMadurai , at a cost of Rs. 26 crore, benefiting 345 \\nwomen.  ', metadata={'source': 'tn.pdf', 'page': 6}), Document(page_content='8 \\n \\n\\uf076 The Government will cover all educational expenses \\nincluding tuition and hostel fees for transgender \\nindividuals who want to pursu e higher education.  \\n\\uf076 A model home called ‘ Poonjolai’ will be set up in \\nCoimbatore with amenities such as skill training \\ncentre, counselling rooms, library, family members ’ \\nvisiting room, medical examination room, park and \\nplayground for children.  \\nSchool Education  \\n\\uf076 Construction of new classrooms  at a cost of Rs. 1,000 \\ncrore will be  undertaken in the coming year .  \\n\\uf076 15,000 smart classrooms will be established in the \\nupcoming  financial  year at an estimated cost of \\nRs.300 crore.  \\nHigher Education  \\n\\uf076 Civil infrastructure will be upgraded in Government \\nArts and Science colleges , Engineering colleges and \\nPolytechnics at a cost of Rs .200 crore in the coming \\nyear.   \\n\\uf076 Computers and other scientific equipment , with \\nIntegrated Learning Management Systems , will be ', metadata={'source': 'tn.pdf', 'page': 7}), Document(page_content='9 \\n \\nprovided  to 236 Government educational institutions \\nincluding Arts and  Science, Engineering and \\nPolytechnic colleges  at a cost of Rs.173 crore .  \\n\\uf076 To kindle the quest for knowledge among citizens, \\nespecially youth, a grand library and science centre \\nnamed after Muthamizh Arignar Kalaignar will be set \\nup in Coimbatore.  \\nNaan Mudalvan  \\n\\uf076 New Skill Labs will be established in 100 Government \\nand Government -aided Engineering , and Arts and \\nScience colleges in the coming  year at a cost of \\nRs.200 crore.  \\n\\uf076 With an objective of increasing the number of youth \\nclearing  Staff Selection Commission , Railway  and \\nBank examinations, 1,000 candidates will be selected \\nannually and provided quality training , with boarding \\nand lodging facilities , for six months in Chennai, \\nCoimbatore, and Madurai regions . A sum of Rs.6 crore \\nwill be allocated for this purpose in the coming  year.  \\n\\uf076 To help boys from poor and marginalized background, \\nstudying in Government schools , realize their dreams \\nof higher e ducation and transform them into ', metadata={'source': 'tn.pdf', 'page': 8}), Document(page_content=\"10 \\n \\nachievers, a grand scheme “Tamizh Pudhalvan“ will be \\nimplemented from the coming financial year. This \\nambitious scheme will benefit around 3 lakh students \\nand will be implemented at a cost of Rs.360 crore \\nfrom the co ming year.  \\n\\uf076 The Government will take proactive steps to ensure \\nthat education loans to the tune of Rs.2,500 crore . \\nYouth and Sports Welfare  \\n\\uf076 India's first Tamil Nadu  Olympic Water Sports \\nAcademy will be established in Pirappanvalasai in \\nRamanathapuram district.  \\nLabour Welfare  \\n\\uf076 The Government will set up 10 new Government \\nIndustrial Training Institutes  at a cost of Rs.111 crore . \\nHealth and Family Welfare  \\n\\uf076 To expand the pioneering ‘Innuyir Kappom: Nammai \\nKaakkum - 48 Thittam ’, the maximum threshold for \\navailing free  of cost treatment during the first 48 \\nhours post  accident will be raised from one lakh \\nrupees rupees to two lakh rupees.  \", metadata={'source': 'tn.pdf', 'page': 9}), Document(page_content='11 \\n \\nEnhancing the H ealthcare Infrastructure of  \\nTamil Nadu  \\n\\uf076 Six intensive care units with 50 beds  each, at an \\nestimated cost of Rs.142 crore.  A 100 bedded ICU  \\nwill be constructed at Perundurai Government Medical \\nCollege hospital in Erode district at an estimated cost \\nof Rs.40 crore. Further, additional buildings will be \\nconstructed in 25 Taluk and non-Taluk hospitals at a \\ncost of Rs.87 crore. The Tamil Nadu Government \\nDental College hospital in Chennai will also be \\nupgraded at a cost of Rs.64 crore.  \\n\\uf076 De-Addiction Centre s will be established in  \\n25 Government Hospitals at a cost  of Rs. 20 crore.  \\nIndustri al Development  \\n\\uf076 SIPCOT will establish a new industrial park , spanning \\n300 acres near Sengipatti , at a cost of Rs.120 crore.  \\n\\uf076 A special scheme to offer a payroll subsidy of 10  per \\ncent of the salary of women , differently abled and \\ntransgender  employees  for two years to all new \\nindustrial units providing direct employment to over \\n500 such individuals  from Tamil Nadu  will be \\nintroduced .  In addition , creches for infant children ', metadata={'source': 'tn.pdf', 'page': 10}), Document(page_content='12 \\n \\nwill be established in all major SIPCOT industrial \\nestates under public -private partnership to support \\nworking wome n. A new tailor -made skill training \\nprogramme will be introduced to facilitate women  \\nwilling to re -enter the job market after taking a \\nsabbatical for reasons such as marriage and \\npregnancy . \\n\\uf076 TIDCO will establish a new ‘Space Industrial and \\nPropellant Park ’, at an extent of 2,000 acres , to \\npromote  space technology industries.  \\n\\uf076 In order to make Tamil Nadu as the prime destination \\nfor GCCs in India, the State will incentivise the \\ncreation of high paying  jobs in new GCCs by provi ding \\na payroll subsidy of 30  per cent  in the first year, 20  \\nper cent  in the second year and 10  per cent  in the \\nthird year for jobs with pay above Rs.1,00,000 per \\nmonth.  \\nMicro, Small and Medium Enterprises  \\n\\uf076 Chennai will host the ‘Global Start -up Summit ’ in \\nJanuary 2025, bringing together leading startups  and \\naccomplished young e ntrepreneurs from across the \\nworld.  ', metadata={'source': 'tn.pdf', 'page': 11}), Document(page_content='13 \\n \\n\\uf076 To identify and support enthusiastic and dynamic \\nentrepreneurs capable of addressing diverse social \\ndevelopment challenges , climate change needs , and \\nimproving public services, the Periyar  Social Justice \\nVenture Lab will be established.  \\n\\uf076 Three new industrial estates dedicated to Micro, Small \\nand Mediu m Enterprises  will be established in \\nOttanchathiram Taluk  in Dindigul District, \\nManamadurai Taluk  in Sivagangai District and \\nThiruthuraipoondi Taluk in Thiruvarur District. at an \\nestimated cost of Rs.32 crore.  \\n\\uf076 A four-storied industrial complex , with plug and play \\nfacilities,  will be constructed at Kurichi Industrial \\nEstate  in Coimbatore district , over an extent of 1.2 \\nacres   \\nat a cost of Rs.37 crore  by TANSIDCO .  \\n\\uf076 A state-of-the-art Industrial Innovation Centre, \\ncovering an area of 26,500 sq.ft, will be constructed in \\nMadurai at an approximate cost of Rs.24 crore.  \\n\\uf076 A three -storied industrial complex , spanning 5 acres \\nof land , will be developed at Sakkimangalam \\nIndustrial Estate in Madurai district by TANSIDCO  at a ', metadata={'source': 'tn.pdf', 'page': 12}), Document(page_content='14 \\n \\ncost of Rs. 118 crore to create employment \\nopportunities for 4,500  individuals.  \\n\\uf076 An incentive of Rs.2 per kg will be provided to the \\nmembers of 16 co -operative tea factories who \\nsupplied green tea leaves during the last year. An \\namount of Rs.9 crore will be allocated for this \\npurpose, benefiting approximately 27,000 small tea \\ngrowers .  \\nInformation Technology  \\n\\uf076 The State Data Centre will be upgraded with cloud \\ncomputing infrastructure and disaster data recovery \\nfacility by the Electronics Corporation of Tamil Nadu \\nLtd (ELCOT)  at a cost of Rs.200 crore  over the next \\nfive years.   \\n\\uf076 Free Wi -Fi services will be provided at 1,000 prime \\nlocations in all the Municipal Corporations . \\n\\uf076 Under the guidance of the Hon ’ble Chief Minister, the \\n‘Tamil Nadu Artificial Intelligence Mission ’ will be \\nestablished . \\n\\uf076 A state-of-the-art IT Park in two phases will be \\nconstr ucted by ELCOT in Vilankurichi, covering an area ', metadata={'source': 'tn.pdf', 'page': 13}), Document(page_content='15 \\n \\nof 20 lakh sq . ft., at an estimated cost of Rs.1,100 \\ncrore.  \\nWater Resources  \\n\\uf076 In Chennai and surrounding districts , 22 permanent \\nflood prevention and mitigation works are being  \\nundertaken at a cost of Rs .350 crore. In the southern \\ndistricts , works for permanent  flood control are being \\nundertaken  at a cost of Rs.280 crore .  \\n\\uf076 Works for the second phase of ‘Extension, Renovation \\nand Moderni zation of  Grand Anicut Canal system will \\nbe undertaken at an estimated cost of Rs.400 crore in \\nthe coming year, thus benefiting an ayacut of 2.3 lakh \\nacre in Thanjavur and Pudukottai Districts.  \\nGreen Energy  \\n\\uf076 New pumped storage hydro -electric  power stations \\nwill be established under  public -private partnership \\nwith an investment of approximately Rs.60,000  crore.  \\nClimate Change  \\n\\uf076 The ‘Tamil Nadu Endangered Species Conservation \\nFund’ with a corpus of Rs.50 crore  will be established .  ', metadata={'source': 'tn.pdf', 'page': 14}), Document(page_content='16 \\n \\n\\uf076  ‘TN-SHORE (Neithal Meetchi Iyakkam) ’ has been \\nsanctioned  at an estimated cost of Rs.1,675 crore.  \\nThe Mission aims to restore coastal resources across \\n14 coastal districts of Tamil Nadu covering  \\na stretch of 1,076 km.  \\n\\uf076 Major beaches across the State including  Marina in \\nChennai, Ariyaman in Ramanathapuram, \\nKayalpattinam in Thoothukudi, Kodavilai in Tirunelveli , \\nKameswaram in Nagapattinam, Kattumavadi in \\nPudukottai, Silver  beach  in Cuddalore  and \\nMarakkanam in Villupuram will be developed at an \\nestimated cost of Rs.250 crore  to obtain blue flag \\ncertification .  \\nTransport  \\n\\uf076 3,000 new buses will be procured , and 500 electric \\nbuses  will be  procured  and brought into operation  with \\nthe financial assistance of KfW .  \\n\\uf076 The mini bus service s will be extended to rural areas \\nadjacent to rapidly growing urban areas , with \\nrevamped guidelines.  \\n \\n ', metadata={'source': 'tn.pdf', 'page': 15}), Document(page_content='17 \\n \\nChennai Metro Rail  \\n\\uf076 A 27-storied iconic building with heritage design, \\nspanning approximately 10  lakh sq.ft ., will be \\nconstructed opposite Chennai Central Railway Station \\nat a cost of Rs.688 crore.  \\n\\uf076 A state -of-the-art integrated multi -modal bus \\nterminu s and office complex, equipped with ultra -\\nmodern amenities, will be developed at a cost of \\nRs.823 crore near the current Broadway bus terminus \\nand Kuralagam building.  \\nAdi Dravidar  and Tribal Welfare  \\n\\uf076 The Annal Ambedkar Business Champions Scheme \\nthat was launched last year with the objective of \\npromoting entrepreneurs belonging to SC/ST \\ncommunities has received widespread acclaim. A sum \\nof Rs. 120 crore will be allocated for this  scheme  in the \\ncoming year .  \\n\\uf076 In addition to this , under the recently launched ‘CM \\nArise’ scheme, entrepreneurs can avail loans up to \\nRs.10 lakh with 35  per cent  interest subsidy. An \\nallocation of Rs.50 crore will be earmark ed in the \\ncoming  year to implement this program me. ', metadata={'source': 'tn.pdf', 'page': 16}), Document(page_content='18 \\n \\n\\uf076 The Iyothee Thass Pandithar  Habitation Development \\nScheme will be implemented at a cost of Rs. 230 crore \\nin the next year. 120 community halls with facilities \\nfor marriage, indoor sports and training will be \\nconstructed at a cost of Rs. 100 crore for the benefit of \\nAdi Dravidar and Tribal communities . \\n\\uf076 Girls’ hostels for college students in Chennai, \\nThanjavur, Dharmapuri and Namakkal  districts and \\nboys’ hostel for college students in Madurai district will \\nbe constructed at a cost of Rs.75 crore this year.  \\n\\uf076 In order to upgrade the basic amenities in tribal \\nhabitations  and improve their living standard s, a new \\nscheme,  ‘ Tholkudi ’, will be implemented in the next \\nfour years at an outlay  of Rs.1,000 crore.  \\n\\uf076 A new scheme will be implemented  at a cost of Rs.5 \\ncrore,  wherein 1,000 selected tribal youth will be \\nselected and provided  skill training  on latest industrial \\ntechniques , with accommodation facilities, through the \\nTamil Nadu Skill Development Corporation to facilitate \\nemployment opportunities.  \\n\\uf076 For all schools functioning under the Department of \\nAdi Dravidar and Tribal Welfare, smart class rooms will ', metadata={'source': 'tn.pdf', 'page': 17}), Document(page_content='19 \\n \\nbe constructed at a cost of Rs. 36 crore in the year \\n2024-25.  \\nMinorities Welfare  \\n\\uf076 A grant of Rs.10 crore will be provided for the repair \\nand maintenance of  mosques and dargahs  this year .  \\n\\uf076 A grant of Rs.10 crore will be provided for the repair \\nand renovation of churches in several places including \\nChoolai  in Chennai, Virudachalam  in Cuddalore,  and \\nIdaikkattur in Sivagangai  this year .  \\nWelfare of Differently Abled Persons  \\n\\uf076 A ‘Centre of Excellence for Persons with Autism \\nSpectrum Disorder ’ will be established in Chennai at a \\ncost of Rs.25 crore.     \\nAnimal Husbandry  \\n\\uf076 In order to strengthen animal sterilization project and \\nto ensure effective operation of animal birth control \\ncentres  across T amil Nadu, an amount of Rs.20 crore \\nwill be allocated in this Budget Estimates.   \\n \\n ', metadata={'source': 'tn.pdf', 'page': 18}), Document(page_content='20 \\n \\nFishe ries and Fishermen Welfare  \\n\\uf076 In the coming year, coastal protection and \\nconstruction works such as bait arch es, fish landing \\ncentre s, dredging and artificial reefs at \\nKanniyakumari, Nagapattinam, Ramanathapuram, \\nThanjavur, Mayiladuthurai, Thiruvarur, Chengalpattu, \\nVillupuram, Thiruvallur, and Thoothukudi districts will \\nbe taken  up at an estimated cost of Rs. 450 crore.  \\nDairy  Deve lopment  \\n\\uf076 Modernization initiatives for installing automated \\nmachines equipped with cutting -edge technology in \\ndairy plants , including those in Tiruchirapalli, Madurai, \\nand Salem will be undertaken at an e stimated cost of \\nRs.60 crore.  \\nHandlooms  and Textiles  \\n\\uf076 In order to improve the quality of textile products with \\nthe help of modern technologies and to facilitate their \\nmarket linkages , 10 mini textile parks will be \\nestablished  by the Government in various districts \\nincluding Karur, Erode and Virudhunagar  at a cost of \\nRs.20 crore.   ', metadata={'source': 'tn.pdf', 'page': 19}), Document(page_content='21 \\n \\n\\uf076 The Government will set up  a dedicated ‘Research and \\nBusiness Development Fund  for Technical Textiles and \\nMan Made Fibre’ with a corpus of Rs.25 crore . The \\ncapital subsidy for major investments  under the \\nexisting policy for technical textiles  will be increased \\nfrom 15 per cent to 25 per cent and  will be  disbursed \\nover a period of  10 years.  \\n\\uf076 The Government will introduce a special scheme for \\ntechnological upgradation by providing  interest \\nsubvention at 6 per cent , at an estimated  cost of \\nRs.500 crore , over the next 10 years.  \\n\\uf076 An integrated complex  for display of handlooms and \\nhandicrafts will be established in Chennai , at an \\nestimated cost of Rs.227 crore.  \\n\\uf076 A new Artisans Development Scheme  will be launched \\nto provide New entrants seeking to join the handicraft \\nsector 25 per cent  subsidy  linked with credit . An \\nallocation of Rs.20 crore has been made for the \\nimplementation of this scheme .  \\nHousing  \\n\\uf076 Single window system will be introduced to facilitate \\nsanction of building permissions based on self -', metadata={'source': 'tn.pdf', 'page': 20}), Document(page_content='22 \\n \\ncertification, without requirement of completion \\ncertificate.  Plot size s up to 2,500 sq.ft. and built -up \\narea up to  3,500 sq.ft. for the construction of \\nresidential structures having ground or ground plus \\none floor will be eligible for instant registration \\nwithout the requirements of building permission . \\nPublic Works  \\n\\uf076 A state-of-the-art ‘Kalaignar International Convention \\nCentre ’, spanning 3 lakh sq. ft. will be built in East \\nCoast Road, Muttukadu, Chennai.  \\n\\uf076 A new Tamil Nadu House ‘ Vaigai’ will be constructed at \\nan extent of 3 lakh sq. ft. with traditional Dravidian \\narchitectural design in  the capital city  of New Delhi , at \\na cost of Rs.257 crore . \\n\\uf076 An amount of Rs.50 crore will be allocated to renovate \\nheritage buildings , and preserve their antiquity.  \\n\\uf076 A new Design Policy, ‘Future of Spaces’ for structural \\ndesign will be released shortly.  \\nHighways  \\n\\uf076 In the coming year, construction of an outer ring road \\nin Sivakasi, ring road in Mannargudi, bypass road in ', metadata={'source': 'tn.pdf', 'page': 21}), Document(page_content=\"23 \\n \\nDindigul, a high-level bridge connecting Trichy and \\nSrirangam , widening of Avinasi to Mettupalayam road \\ninto a four-lane road and  a bridge across Koraiyar \\nRiver in Marangiyur – Enathimangalam road  in \\nVillupuram district will be undertaken , at an estimated  \\ncost of Rs. 665 crore, under the Comprehensive Road \\nInfrastructure Development Programme (CRIDP).  \\n\\uf076 The Cuddalore port, which  has been inoperative  for \\nthe past 40 years, has now been upgraded  with \\nadditional facilities at a cost of  \\nRs.150 crore. In addition , tenders have also been \\ninvited to increase the handling capacity of the port to  \\n35 lakh tonnes  of goods per annum .  \\n\\uf076 A bill to establish 'Tamil Nadu State Highways \\nAuthority' will be introduced in the current session.  \\nWelfare of Ex -servicemen  \\n\\uf076 Rewarding the dedication  and selfless service  of our \\nex-servicemen, the property tax reimbursement \\nscheme will be expanded to all ex -servicemen.  As a \\nresult, more than 1.2 lakh ex-servicemen will be \\nbenefit ted. \\nWelfare of Government Employees  \", metadata={'source': 'tn.pdf', 'page': 22}), Document(page_content='24 \\n \\n\\uf076 60,567 persons have secured  Government \\nemployment in the two and a half years since this \\nGovernment assumed office. Moreover, the \\nGovernment is taking proactive measures to fill up \\n10,000 posts in the current year.  \\n\\uf076 The Government will construct 95 Type-B and 133 \\nType-C quarters , encompassing  a total plinth area of 3 \\nlakh sq. ft . in Todhun ter Nagar, Saidapet, Chennai , at \\na cost of Rs.147 crore . \\nPublic Grievances   \\n\\uf076 Out of 20.31 lakh petitions received under \\nMudhalvarin Mugavari  so far,  19.69 lakh petitions have \\nbeen resolved .  \\n\\uf076 A new initiative called ‘Makkaludan Mudhalvar ’ has \\nbeen launched to redress public grievances in under  \\n30 days  pertaining to 13 key departments  with high \\npublic interface .  \\n\\uf076 A new scheme called ‘Ungalai Thedi Ungal Ooril ’ has \\nbeen launched recently. Under this scheme , District \\nCollectors will set up camp in one Taluk for one day \\nevery month . ', metadata={'source': 'tn.pdf', 'page': 23}), Document(page_content='25 \\n \\nSpecial Programme Implementation  \\n\\uf076 Our Hon’ble Chief Minister is conducting personal \\ninspection and reviews for ensuring timey and hassle -\\nfree delivery of services. In order to ensure timely and  \\nhassle -free delivery of services and benefits to  \\nthe people, our Hon’ble Chief Minister conduc ts \\nperiodical reviews and inspection s on the status  \\nunder the novel initiative , ‘Kala Aayvil \\nMuthalamaichar’ . \\n  ', metadata={'source': 'tn.pdf', 'page': 24}), Document(page_content='26 \\n \\nPART - B \\nFinances of the State Government  \\n\\uf076 The Government is following the glide path of fiscal \\nconsolidation and  has reduced it from 3.46  per cent  in \\n2022-23 to 3.45  per cent  in 2023 -24 to 3.44  per cent  \\nin 2024 -25. This has been achieved  despite the \\nimpact of disasters and  after an unprecedented \\nallocation to TANGEDCO from within the budgetary \\nresources. This Budget underscores the commitment \\nof this Government to deliver on the promises made \\nto the people, without wavering from the path of \\nprudent fiscal management, in spite of numerous \\nchallenges.  ', metadata={'source': 'tn.pdf', 'page': 25})]\n",
      "Running RAG...\n"
     ]
    },
    {
     "name": "stderr",
     "output_type": "stream",
     "text": [
      "100%|██████████| 10/10 [04:09<00:00, 24.95s/it]\n"
     ]
    },
    {
     "name": "stdout",
     "output_type": "stream",
     "text": [
      "Running evaluation...\n"
     ]
    },
    {
     "name": "stderr",
     "output_type": "stream",
     "text": [
      " 10%|█         | 1/10 [01:13<10:59, 73.25s/it]"
     ]
    },
    {
     "name": "stdout",
     "output_type": "stream",
     "text": [
      "Feedback: The response does not provide any estimated cost for constructing bait arches, fish landing centers, or other coastal protection works in various districts, which makes it completely irrelevant to the question. [RESULT] 1 [RESULT] This response hallucinates by not providing any relevant information and instead provides a statement that is factually incorrect (the reference answer is Rs.450 crore).\n"
     ]
    },
    {
     "name": "stderr",
     "output_type": "stream",
     "text": [
      " 20%|██        | 2/10 [02:03<07:57, 59.71s/it]"
     ]
    },
    {
     "name": "stdout",
     "output_type": "stream",
     "text": [
      "Feedback: The response accurately captures the purpose of allocating Rs.20 crore in the Budget Estimates for animal husbandry, which is to strengthen animal sterilization projects and ensure effective operation of animal birth control centres across Tamil Nadu. [RESULT] 5 [RESULT] The response does not exhibit any hallucination as it directly addresses the purpose of allocation mentioned in Document 1 regarding Animal Husbandry.\n"
     ]
    },
    {
     "name": "stderr",
     "output_type": "stream",
     "text": [
      " 30%|███       | 3/10 [03:03<07:00, 60.04s/it]"
     ]
    },
    {
     "name": "stdout",
     "output_type": "stream",
     "text": [
      "Feedback: The response does not provide an estimated cost for modernizing dairy plants with automated machines in cities like Tiruchirapalli, Madurai, and Salem, which indicates that the answer cannot be deduced from the given context. This shows a good understanding of the limitations of the provided information [RESULT] 2 [RESULT] The response does not hallucinate as it clearly states that an answer cannot be deduced from the given documents.\n"
     ]
    },
    {
     "name": "stderr",
     "output_type": "stream",
     "text": [
      " 40%|████      | 4/10 [03:54<05:38, 56.48s/it]"
     ]
    },
    {
     "name": "stdout",
     "output_type": "stream",
     "text": [
      "Feedback: The response accurately reflects the lack of information provided in the context regarding the establishment of mini textile parks or their distribution across various districts such as Karur, Erode, and Virudhunagar. [RESULT] 1 [RESULT] This response does not contain any hallucination as it correctly acknowledges that an answer cannot be deduced from the given documents.\n"
     ]
    },
    {
     "name": "stderr",
     "output_type": "stream",
     "text": [
      " 50%|█████     | 5/10 [04:51<04:42, 56.56s/it]"
     ]
    },
    {
     "name": "stdout",
     "output_type": "stream",
     "text": [
      "Feedback: The response correctly acknowledges the absence of relevant information in the provided context to deduce details about the 'Research and Business Development Fund for Technical Textiles and Man Made Fibre'. This shows an understanding that the fund's corpus cannot be determined without further information. [RESULT] 4 [RESULT] There is no hallucination of the response, as it accurately reflects the limitations imposed by the lack of relevant context.\n"
     ]
    },
    {
     "name": "stderr",
     "output_type": "stream",
     "text": [
      " 60%|██████    | 6/10 [06:37<04:53, 73.36s/it]"
     ]
    },
    {
     "name": "stdout",
     "output_type": "stream",
     "text": [
      "Feedback: The response does not attempt to provide an answer to the question, instead, it correctly acknowledges that the provided context does not contain information regarding the increased capital subsidy percentage for major investments under the existing policy for technical textiles. This shows understanding of the limitations of the given information. [RESULT] 5 [RESULT] There is no hallucination in this response as it accurately reflects the lack of relevant information in the provided context, which aligns with the reference answer that there is no increased capital subsidy percentage for major investments under the existing policy for technical textiles.\n"
     ]
    },
    {
     "name": "stderr",
     "output_type": "stream",
     "text": [
      " 70%|███████   | 7/10 [08:07<03:56, 78.78s/it]"
     ]
    },
    {
     "name": "stdout",
     "output_type": "stream",
     "text": [
      "Feedback: The response correctly acknowledges that the provided context does not contain information about a specific duration for disbursing the capital subsidy for technical textiles investments. It accurately concludes that an answer cannot be deduced from it. [RESULT] 4 [RESULT] The response does not hallucinate as it only states what can be inferred from the given context, which is the absence of information about the duration.\n"
     ]
    },
    {
     "name": "stderr",
     "output_type": "stream",
     "text": [
      " 80%|████████  | 8/10 [09:28<02:39, 79.57s/it]"
     ]
    },
    {
     "name": "stdout",
     "output_type": "stream",
     "text": [
      "Feedback: The response does not provide any information about the districts where artificial reefs will be constructed as part of coastal protection works, which makes it difficult to assess its correctness or relevance to the reference answer. [RESULT] 2 [RESULT] The response seems to have a hallucination that there is no relevant information in the provided context, but it does not attempt to provide any actual information about the districts.\n"
     ]
    },
    {
     "name": "stderr",
     "output_type": "stream",
     "text": [
      " 90%|█████████ | 9/10 [10:52<01:20, 80.73s/it]"
     ]
    },
    {
     "name": "stdout",
     "output_type": "stream",
     "text": [
      "Feedback: The response correctly acknowledges that the estimated cost for establishing mini textile parks in various districts cannot be deduced from the provided context. This shows an understanding of the limitations of the given information. [RESULT] 2 [RESULT] The response does not provide any estimation, but it is accurate in stating that the provided context is insufficient to make such a calculation. There is no hallucination of the response as it accurately reflects the given instruction.\n"
     ]
    },
    {
     "name": "stderr",
     "output_type": "stream",
     "text": [
      "100%|██████████| 10/10 [12:19<00:00, 73.97s/it]"
     ]
    },
    {
     "name": "stdout",
     "output_type": "stream",
     "text": [
      "Feedback: The response fails to provide a meaningful explanation of the 'Research and Business Development Fund for Technical Textiles and Man Made Fibre' due to the lack of relevant context. It correctly acknowledges that the provided information does not mention the specific fund. [RESULT] 2 [RESULT] This response shows some awareness that additional context is needed, but ultimately provides no insight into the purpose of the fund.\n"
     ]
    },
    {
     "name": "stderr",
     "output_type": "stream",
     "text": [
      "\n"
     ]
    }
   ],
   "source": [
    "if not os.path.exists(\"./output1\"):\n",
    "    os.mkdir(\"./output1\")\n",
    "\n",
    "#RAG model initialization\n",
    "MODEL = \"phi3\"\n",
    "model = Ollama(model=MODEL)\n",
    "chain = prompt | model\n",
    "\n",
    "#PDF loader\n",
    "loader = PyPDFLoader(\"tn.pdf\")\n",
    "docs = loader.load()\n",
    "print(docs)\n",
    "special = u\"\\uf076\"\n",
    "\n",
    "for doc in docs:\n",
    "    doc.page_content = doc.page_content.replace('\\n', '')\n",
    "    doc.page_content = doc.page_content.replace(special,'')\n",
    "    doc.page_content = doc.page_content.replace('  ',' ')\n",
    "# Transform data\n",
    "text_splitter = RecursiveCharacterTextSplitter(chunk_size=500, chunk_overlap=100)\n",
    "texts = text_splitter.split_documents(docs)\n",
    "\n",
    "# Embedding the input chunk\n",
    "embeddings = OllamaEmbeddings(model=MODEL)\n",
    "docsearch = FAISS.from_documents(texts, embeddings)\n",
    "retriever = docsearch.as_retriever()\n",
    "\n",
    "# Load the evaluation dataset from csv file\n",
    "generated_questions = pd.read_csv(\"evaluation.csv\")\n",
    "eval_dataset = datasets.Dataset.from_pandas(generated_questions, preserve_index=False)\n",
    "\n",
    "# Initialize the evaluator model \n",
    "evaluator_name = \"llama3\"\n",
    "evalmodel = Ollama(model=evaluator_name)\n",
    "eval_prompt = PromptTemplate.from_template(EVALUATION_PROMPT)\n",
    "\n",
    "from operator import itemgetter\n",
    "\n",
    "evalchain = eval_prompt | evalmodel\n",
    "\n",
    "settings_name = \"outputmistral\"\n",
    "output_file_name = f\"./output1/rag3_{settings_name}.json\"\n",
    "\n",
    "\n",
    "print(\"Running RAG...\")\n",
    "run_rag_tests(\n",
    "    eval_dataset=eval_dataset,\n",
    "    llm=chain,\n",
    "    knowledge_index=docsearch,\n",
    "    output_file=output_file_name,\n",
    "    verbose=False,\n",
    ")\n",
    "\n",
    "print(\"Running evaluation...\")\n",
    "evaluate_answers(\n",
    "    output_file_name,\n",
    "    evalchain,\n",
    "    evaluator_name,\n",
    "    evaluation_prompt_template,\n",
    ")           "
   ]
  },
  {
   "cell_type": "code",
   "execution_count": 15,
   "metadata": {},
   "outputs": [],
   "source": [
    "import glob\n",
    "\n",
    "outputs = []\n",
    "for file in glob.glob(\"./output1/*.json\"):\n",
    "    output = pd.DataFrame(json.load(open(file, \"r\")))\n",
    "    output[\"settings\"] = file\n",
    "    outputs.append(output)\n",
    "result = pd.concat(outputs)"
   ]
  },
  {
   "cell_type": "code",
   "execution_count": 16,
   "metadata": {},
   "outputs": [],
   "source": [
    "result[\"eval_score_llama3\"] = result[\"eval_score_llama3\"].apply(lambda x: int(x) if isinstance(x, str) else 1)\n",
    "result[\"eval_score_llama3\"] = (result[\"eval_score_llama3\"] - 1) / 4"
   ]
  },
  {
   "cell_type": "code",
   "execution_count": 17,
   "metadata": {},
   "outputs": [
    {
     "data": {
      "text/plain": [
       "settings\n",
       "./output1\\rag3_outputmistral.json    0.45\n",
       "Name: eval_score_llama3, dtype: float64"
      ]
     },
     "execution_count": 17,
     "metadata": {},
     "output_type": "execute_result"
    }
   ],
   "source": [
    "# Calculating the score of the RAG model\n",
    "average_scores = result.groupby(\"settings\")[\"eval_score_llama3\"].mean()\n",
    "print(\"RAG model score: \",average_scores.sort_values())"
   ]
  },
  {
   "cell_type": "code",
   "execution_count": 18,
   "metadata": {},
   "outputs": [],
   "source": [
    "# Storing the evaluated result in csv file\n",
    "result.to_csv(\"eval_result1.csv\")"
   ]
  },
  {
   "cell_type": "code",
   "execution_count": null,
   "metadata": {},
   "outputs": [],
   "source": []
  }
 ],
 "metadata": {
  "kernelspec": {
   "display_name": "Python 3",
   "language": "python",
   "name": "python3"
  },
  "language_info": {
   "codemirror_mode": {
    "name": "ipython",
    "version": 3
   },
   "file_extension": ".py",
   "mimetype": "text/x-python",
   "name": "python",
   "nbconvert_exporter": "python",
   "pygments_lexer": "ipython3",
   "version": "3.11.9"
  }
 },
 "nbformat": 4,
 "nbformat_minor": 2
}
